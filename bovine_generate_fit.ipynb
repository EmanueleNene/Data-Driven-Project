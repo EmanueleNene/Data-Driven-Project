{
 "cells": [
  {
   "cell_type": "code",
   "execution_count": null,
   "id": "7e7f6e17",
   "metadata": {},
   "outputs": [],
   "source": []
  },
  {
   "cell_type": "markdown",
   "id": "22dec73e",
   "metadata": {},
   "source": [
    "- generate data from \n",
    "```\n",
    "phi = c1 * (np.exp(beta * (I1 - 3.0)) - 1.0) + c2 * (I2 - 3.0) + g(I3)\n",
    "```"
   ]
  },
  {
   "cell_type": "code",
   "execution_count": 1,
   "id": "0636417c",
   "metadata": {},
   "outputs": [
    {
     "name": "stdout",
     "output_type": "stream",
     "text": [
      "Saved CSV -> C:\\Users\\qq528\\OneDrive - KTH\\WorkingFolder\\Courses\\FSM3001_data_driven\\sindy_project\\phi_dataset_eps_0.0_0.2_n100_beta_85.13.csv\n",
      "Saved plot -> C:\\Users\\qq528\\OneDrive - KTH\\WorkingFolder\\Courses\\FSM3001_data_driven\\sindy_project\\phi_vs_epsilon.png\n"
     ]
    },
    {
     "data": {
      "image/png": "[encoded data removed]",
      "text/plain": [
       "<Figure size 640x480 with 1 Axes>"
      ]
     },
     "metadata": {},
     "output_type": "display_data"
    }
   ],
   "source": [
    "# generate_phi_dataset.py\n",
    "# Compute phi = c1*(exp(beta*(I1-3)) - 1) + c2*(I2 - 3) + g(I3)\n",
    "# with I1 = lambda^2 + 2/lambda, I2 = 2*lambda + 1/lambda^2, I3 = 1, lambda = epsilon + 1\n",
    "\n",
    "import numpy as np\n",
    "import pandas as pd\n",
    "import matplotlib.pyplot as plt\n",
    "from pathlib import Path\n",
    "\n",
    "# ---- Parameters ----\n",
    "c1 = 0.542\n",
    "c2 = 0.013\n",
    "beta = 85.13          # tissue : Bovine\n",
    "eps_min, eps_max = 0.0, 0.2\n",
    "n_points = 100\n",
    "\n",
    "# Volumetric term. With I3 = 1 constant, this becomes a constant shift; use 0 by default.\n",
    "def g(I3):\n",
    "    # Example alternative (commented): return 0.5 * k * (I3 - 1.0)**2\n",
    "    return np.zeros_like(I3)\n",
    "\n",
    "# ---- Generate epsilon and invariants ----\n",
    "epsilon = np.linspace(eps_min, eps_max, n_points)  # 100 points from 0 to 0.2\n",
    "lam = epsilon + 1.0\n",
    "I1 = lam**2 + 2.0/lam\n",
    "I2 = 2.0*lam + 1.0/(lam**2)\n",
    "I3 = np.ones_like(lam)\n",
    "\n",
    "# ---- Compute phi ----\n",
    "phi = c1 * (np.exp(beta * (I1 - 3.0)) - 1.0) + c2 * (I2 - 3.0) + g(I3)\n",
    "\n",
    "# ---- Save to CSV ----\n",
    "df = pd.DataFrame({\n",
    "    \"epsilon\": epsilon,\n",
    "    \"lambda\": lam,\n",
    "    \"I1\": I1,\n",
    "    \"I2\": I2,\n",
    "    \"I3\": I3,\n",
    "    \"phi\": phi\n",
    "})\n",
    "\n",
    "out_dir = Path(\".\")\n",
    "csv_path = out_dir / f\"phi_dataset_eps_{eps_min}_{eps_max}_n{n_points}_beta_{beta}.csv\"\n",
    "df.to_csv(csv_path, index=False)\n",
    "print(f\"Saved CSV -> {csv_path.resolve()}\")\n",
    "\n",
    "# ---- Quick plot ----\n",
    "plt.figure()\n",
    "plt.plot(epsilon, phi, linewidth=2)\n",
    "plt.xlabel(\"epsilon\")\n",
    "plt.ylabel(\"phi\")\n",
    "plt.title(\"Strain-energy density phi vs epsilon\")\n",
    "plt.grid(True, alpha=0.4)\n",
    "plt.tight_layout()\n",
    "png_path = out_dir / \"phi_vs_epsilon.png\"\n",
    "plt.savefig(png_path, dpi=200)\n",
    "print(f\"Saved plot -> {png_path.resolve()}\")\n",
    "plt.show()\n"
   ]
  },
  {
   "cell_type": "markdown",
   "id": "f0285b28",
   "metadata": {},
   "source": [
    "- Fit  data from \n",
    "```\n",
    "phi = c1 * (np.exp(beta * (I1 - 3.0)) - 1.0) + c2 * (I2 - 3.0) + g(I3)\n",
    "```\n",
    "- Changing epsilon from 0 to 0.2, 100 data points"
   ]
  },
  {
   "cell_type": "code",
   "execution_count": 2,
   "id": "076474f1",
   "metadata": {},
   "outputs": [
    {
     "name": "stdout",
     "output_type": "stream",
     "text": [
      "\n",
      "=== Discovered sparse formula ===\n",
      "phi(epsilon) ≈ (0.0129999999796)*(I2-3) + (0.542)*exp(beta*(I1-3))-1\n",
      "\n",
      "=== Metrics ===\n",
      "R^2 = 1.000000\n",
      "MAE = 1.008643e-12\n",
      "\n",
      "=== Two-parameter fit (only c1, c2) ===\n",
      "c1 ≈ 0.542000, c2 ≈ 0.013000\n",
      "R^2 = 1.000000, MAE = 9.614463e-13\n"
     ]
    }
   ],
   "source": [
    "# fit_phi_with_pysindy_min.py\n",
    "# Read the generated CSV and use PySINDy's STLSQ for sparse regression to get sparse expression of phi(eps).\n",
    "# You only need to change CSV_PATH to your actual filename.\n",
    "\n",
    "import numpy as np\n",
    "import pandas as pd\n",
    "import pysindy as ps\n",
    "\n",
    "# ====== Path and Hyperparameters ======\n",
    "CSV_PATH = \"phi_dataset_eps_0.0_0.2_n100_beta_85.13.csv\"  # <- Change to your actual filename\n",
    "beta = 85.13                         # If your data uses different beta, change here\n",
    "threshold = 1e-3               # Sparsity threshold, 1e-4 ~ 1e-2 adjustable\n",
    "alpha = 0.0                    # STLSQ ridge parameter (0 means ordinary least squares)\n",
    "\n",
    "# ====== Read CSV ======\n",
    "df = pd.read_csv(CSV_PATH)\n",
    "eps = df[\"epsilon\"].to_numpy()\n",
    "lam = df[\"lambda\"].to_numpy()\n",
    "I1  = df[\"I1\"].to_numpy()\n",
    "I2  = df[\"I2\"].to_numpy()\n",
    "I3  = df[\"I3\"].to_numpy()\n",
    "phi = df[\"phi\"].to_numpy().reshape(-1, 1)\n",
    "\n",
    "# ====== Build candidate feature library (corresponding to your theoretical structure) ======\n",
    "# 1, (I1-3), (I2-3), exp(beta*(I1-3))-1, (I3-1)\n",
    "feature_names = [\n",
    "    \"1\",\n",
    "    \"(I1-3)\",\n",
    "    \"(I2-3)\",\n",
    "    \"exp(beta*(I1-3))-1\",\n",
    "    \"(I3-1)\",\n",
    "]\n",
    "Theta = np.column_stack([\n",
    "    np.ones_like(I1),\n",
    "    (I1 - 3.0),\n",
    "    (I2 - 3.0),\n",
    "    np.exp(beta * (I1 - 3.0)) - 1.0,\n",
    "    (I3 - 1.0),\n",
    "])\n",
    "\n",
    "# ====== Use PySINDy's STLSQ for fitting (Note: don't pass fit_intercept) ======\n",
    "opt = ps.STLSQ(threshold=threshold, alpha=alpha)\n",
    "opt.fit(Theta, phi)                 # Directly fit y ≈ Theta @ w\n",
    "coef = opt.coef_.reshape(-1)        # (n_features,)\n",
    "\n",
    "# ====== Output sparse formula ======\n",
    "def pretty_formula(names, c, tol=1e-12):\n",
    "    terms = [f\"({ci:.12g})*{ni}\" for ni, ci in zip(names, c) if abs(ci) > tol]\n",
    "    return \"phi(epsilon) ≈ \" + (\" + \".join(terms) if terms else \"0\")\n",
    "\n",
    "print(\"\\n=== Discovered sparse formula ===\")\n",
    "print(pretty_formula(feature_names, coef))\n",
    "\n",
    "# ====== Simple evaluation ======\n",
    "phi_pred = (Theta @ coef.reshape(-1, 1)).reshape(-1)\n",
    "phi_true = phi.reshape(-1)\n",
    "\n",
    "R2  = 1.0 - np.sum((phi_true - phi_pred)**2) / np.sum((phi_true - phi_true.mean())**2)\n",
    "MAE = np.mean(np.abs(phi_true - phi_pred))\n",
    "print(\"\\n=== Metrics ===\")\n",
    "print(f\"R^2 = {R2:.6f}\")\n",
    "print(f\"MAE = {MAE:.6e}\")\n",
    "\n",
    "# ====== (Optional) Estimate only c1, c2: phi ≈ c1*(exp(beta*(I1-3))-1) + c2*(I2-3) ======\n",
    "Theta_min = np.column_stack([\n",
    "    np.exp(beta * (I1 - 3.0)) - 1.0,\n",
    "    (I2 - 3.0),\n",
    "])\n",
    "opt_min = ps.STLSQ(threshold=0.0, alpha=0.0)  # Two coefficients with direct least squares\n",
    "opt_min.fit(Theta_min, phi)\n",
    "c1_hat, c2_hat = opt_min.coef_.reshape(-1)\n",
    "phi_min = (Theta_min @ np.array([c1_hat, c2_hat]).reshape(-1, 1)).reshape(-1)\n",
    "\n",
    "R2_min  = 1.0 - np.sum((phi_true - phi_min)**2) / np.sum((phi_true - phi_true.mean())**2)\n",
    "MAE_min = np.mean(np.abs(phi_true - phi_min))\n",
    "\n",
    "print(\"\\n=== Two-parameter fit (only c1, c2) ===\")\n",
    "print(f\"c1 ≈ {c1_hat:.6f}, c2 ≈ {c2_hat:.6f}\")\n",
    "print(f\"R^2 = {R2_min:.6f}, MAE = {MAE_min:.6e}\")"
   ]
  },
  {
   "cell_type": "code",
   "execution_count": 3,
   "id": "0db216af",
   "metadata": {},
   "outputs": [],
   "source": [
    "# phi = c1 * (np.exp(beta * (I1 - 3.0)) - 1.0) + c2 * (I2 - 3.0) + g(I3)\n",
    "# ---- Parameters ----\n",
    "# c1 = 0.542\n",
    "# c2 = 0.013\n",
    "# beta = 85.13          # tissue : Bovine\n",
    "# eps_min, eps_max = 0.0, 0.2\n",
    "# n_points = 100"
   ]
  },
  {
   "cell_type": "code",
   "execution_count": null,
   "id": "71fdcf60",
   "metadata": {},
   "outputs": [],
   "source": [
    "# jupyter nbconvert --to html --embed-images generate_fit.ipynb"
   ]
  },
  {
   "cell_type": "code",
   "execution_count": null,
   "id": "b38d9af1",
   "metadata": {},
   "outputs": [],
   "source": [
    "# git config user.email \"qq528898861@gmail.com\""
   ]
  }
 ],
 "metadata": {
  "kernelspec": {
   "display_name": "pysindy",
   "language": "python",
   "name": "python3"
  },
  "language_info": {
   "codemirror_mode": {
    "name": "ipython",
    "version": 3
   },
   "file_extension": ".py",
   "mimetype": "text/x-python",
   "name": "python",
   "nbconvert_exporter": "python",
   "pygments_lexer": "ipython3",
   "version": "3.13.5"
  }
 },
 "nbformat": 4,
 "nbformat_minor": 5
}
